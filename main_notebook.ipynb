{
  "cells": [
    {
      "cell_type": "code",
      "execution_count": null,
      "metadata": {
        "colab": {
          "base_uri": "https://localhost:8080/"
        },
        "collapsed": true,
        "id": "fx_-Et7A3yPY",
        "outputId": "a18e313f-7eda-4bf4-af64-beaf60e6cf9b"
      },
      "outputs": [],
      "source": [
        "# pip install -r requirements.txt # For new environments, e.g. Colab"
      ]
    },
    {
      "cell_type": "markdown",
      "metadata": {
        "id": "0irfEOljZB2D"
      },
      "source": [
        "# Importing libraries"
      ]
    },
    {
      "cell_type": "code",
      "execution_count": null,
      "metadata": {
        "id": "k2Py6WY94BAs"
      },
      "outputs": [],
      "source": [
        "import cv2\n",
        "import glob\n",
        "import torch\n",
        "import numpy as np\n",
        "import pandas as pd\n",
        "from moviepy.editor import *\n",
        "from ball_tracker import BallTracker\n",
        "from court_detection_net import CourtDetectorNet\n",
        "from court_reference import CourtReference\n",
        "from bounce_detector import BounceDetector\n",
        "from person_detector import PersonDetector\n",
        "from hawkeye_checker import in_out_checker\n",
        "from utils import scene_detect, read_video, write"
      ]
    },
    {
      "cell_type": "markdown",
      "metadata": {
        "id": "pypGycKMZJVx"
      },
      "source": [
        "# Input-output directories"
      ]
    },
    {
      "cell_type": "code",
      "execution_count": null,
      "metadata": {
        "id": "i1IdRSjHZIra"
      },
      "outputs": [],
      "source": [
        "input_video_folder_path = r\"input_videos\"\n",
        "output_video_folder_path = r\"output_videos\""
      ]
    },
    {
      "cell_type": "markdown",
      "metadata": {
        "id": "JHKkT_rbZVYV"
      },
      "source": [
        "# The main function"
      ]
    },
    {
      "cell_type": "code",
      "execution_count": null,
      "metadata": {
        "id": "UYMB34iB4EFY"
      },
      "outputs": [],
      "source": [
        "def get_court_img():\n",
        "    court_reference = CourtReference()\n",
        "    court = court_reference.build_court_reference()\n",
        "    court = cv2.dilate(court, np.ones((10, 10), dtype=np.uint8))\n",
        "    court_img = (np.stack((court, court, court), axis=2)*255).astype(np.uint8)\n",
        "    return court_img\n",
        "\n",
        "def main(frames, scenes, bounces, ball_track, homography_matrices, kps_court, persons_top, persons_bottom,\n",
        "         hawk_eye, draw_trace=False, trace=7):\n",
        "    \"\"\"\n",
        "    :params\n",
        "        frames: list of original images\n",
        "        scenes: list of beginning and ending of video fragment\n",
        "        bounces: list of image numbers where ball touches the ground\n",
        "        ball_track: list of (x,y) ball coordinates\n",
        "        homography_matrices: list of homography matrices\n",
        "        kps_court: list of 14 key points of tennis court\n",
        "        persons_top: list of person bboxes located in the top of tennis court\n",
        "        persons_bottom: list of person bboxes located in the bottom of tennis court\n",
        "        hawk_eye: list of image numbers where shot was 'out'\n",
        "        draw_trace: whether to draw ball trace\n",
        "        trace: the length of ball trace\n",
        "    :return\n",
        "        imgs_res: list of resulting images\n",
        "    \"\"\"\n",
        "    imgs_res = []\n",
        "    width_minimap = int(166*1.5)\n",
        "    height_minimap = int(350*1.5)\n",
        "    is_track = [x is not None for x in homography_matrices]\n",
        "    for num_scene in range(len(scenes)):\n",
        "        sum_track = sum(is_track[scenes[num_scene][0]:scenes[num_scene][1]])\n",
        "        len_track = scenes[num_scene][1] - scenes[num_scene][0]\n",
        "\n",
        "        eps = 1e-15\n",
        "        scene_rate = sum_track/(len_track+eps)\n",
        "        if (scene_rate > 0.5):\n",
        "            court_img = get_court_img()\n",
        "\n",
        "            for i in range(scenes[num_scene][0], scenes[num_scene][1]):\n",
        "                img_res = frames[i]\n",
        "                inv_mat = homography_matrices[i]\n",
        "\n",
        "                # Draw Hawkeye stats\n",
        "                width_hwk = 70\n",
        "                height_hwk = 35\n",
        "                start_x_hwk = img_res.shape[1]-193\n",
        "                start_y_hwk = img_res.shape[0]-480\n",
        "                end_x_hwk = start_x_hwk + width_hwk\n",
        "                end_y_hwk = start_y_hwk + height_hwk\n",
        "                if hawk_eye[i] == 1:\n",
        "                    img_res = cv2.rectangle(img_res, (start_x_hwk, start_y_hwk), (end_x_hwk, end_y_hwk), (0, 0, 0), -1)\n",
        "                    text = \"Hawkeye\"\n",
        "                    img_res = cv2.putText(img_res, text, (start_x_hwk+3, start_y_hwk+12), cv2.FONT_HERSHEY_SIMPLEX, 0.50, (255, 255, 255), 2)\n",
        "                    text = \"OUT\"\n",
        "                    img_res = cv2.putText(img_res, text, (start_x_hwk+20, start_y_hwk+30), cv2.FONT_HERSHEY_SIMPLEX, 0.65, (255, 255, 255), 2)\n",
        "\n",
        "                # draw ball trajectory\n",
        "                if ball_track[i][0]:\n",
        "                    if draw_trace:\n",
        "                        for j in range(0, trace):\n",
        "                            if i-j >= 0:\n",
        "                                if ball_track[i-j][0]:\n",
        "                                    draw_x = int(ball_track[i-j][0])\n",
        "                                    draw_y = int(ball_track[i-j][1])\n",
        "                                    img_res = cv2.circle(frames[i], (draw_x, draw_y),\n",
        "                                    radius=3, color=(0, 255, 0), thickness=2)\n",
        "                    else:\n",
        "                        img_res = cv2.circle(img_res , (int(ball_track[i][0]), int(ball_track[i][1])), radius=5,\n",
        "                                             color=(0, 255, 0), thickness=2)\n",
        "                        img_res = cv2.putText(img_res, 'ball',\n",
        "                              org=(int(ball_track[i][0]) + 8, int(ball_track[i][1]) + 8),\n",
        "                              fontFace=cv2.FONT_HERSHEY_SIMPLEX,\n",
        "                              fontScale=0.8,\n",
        "                              thickness=2,\n",
        "                              color=(0, 255, 0))\n",
        "\n",
        "                # draw court keypoints\n",
        "                if kps_court[i] is not None:\n",
        "                    for j in range(len(kps_court[i])):\n",
        "                        img_res = cv2.circle(img_res, (int(kps_court[i][j][0, 0]), int(kps_court[i][j][0, 1])),\n",
        "                                          radius=0, color=(0, 0, 255), thickness=10)\n",
        "\n",
        "                height, width, _ = img_res.shape\n",
        "\n",
        "                # draw bounce in minimap\n",
        "                if i in bounces and inv_mat is not None:\n",
        "                    ball_point = ball_track[i]\n",
        "                    ball_point = np.array(ball_point, dtype=np.float32).reshape(1, 1, 2)\n",
        "                    ball_point = cv2.perspectiveTransform(ball_point, inv_mat)\n",
        "                    court_img = cv2.circle(court_img, (int(ball_point[0, 0, 0]), int(ball_point[0, 0, 1])),\n",
        "                                                       radius=0, color=(0, 255, 255), thickness=50)\n",
        "\n",
        "\n",
        "                minimap = court_img.copy()\n",
        "\n",
        "                # draw persons\n",
        "                persons = persons_top[i] + persons_bottom[i]\n",
        "                for j, person in enumerate(persons):\n",
        "                    if len(person[0]) > 0:\n",
        "                        person_bbox = list(person[0])\n",
        "                        img_res = cv2.rectangle(img_res, (int(person_bbox[0]), int(person_bbox[1])),\n",
        "                                                (int(person_bbox[2]), int(person_bbox[3])), [255, 0, 0], 2)\n",
        "\n",
        "                        # transmit person point to minimap\n",
        "                        person_point = list(person[1])\n",
        "                        person_point = np.array(person_point, dtype=np.float32).reshape(1, 1, 2)\n",
        "                        person_point = cv2.perspectiveTransform(person_point, inv_mat)\n",
        "                        minimap = cv2.circle(minimap, (int(person_point[0, 0, 0]), int(person_point[0, 0, 1])),\n",
        "                                                           radius=0, color=(255, 0, 0), thickness=80)\n",
        "\n",
        "                minimap = cv2.resize(minimap, (width_minimap, height_minimap))\n",
        "                img_res[30:(30 + height_minimap), (width - 30 - width_minimap):(width - 30), :] = minimap\n",
        "                imgs_res.append(img_res)\n",
        "\n",
        "        else:\n",
        "            imgs_res = imgs_res + frames[scenes[num_scene][0]:scenes[num_scene][1]]\n",
        "    return imgs_res\n",
        "\n"
      ]
    },
    {
      "cell_type": "code",
      "execution_count": null,
      "metadata": {
        "colab": {
          "base_uri": "https://localhost:8080/"
        },
        "id": "UPqXu9jc4GsU",
        "outputId": "59284e69-9c4c-426f-c6c0-329ea5059041"
      },
      "outputs": [],
      "source": [
        "if __name__ == '__main__':\n",
        "    # Getting all videos from the input directory\n",
        "    input_videos = glob.glob(f\"{input_video_folder_path}/*\")\n",
        "    if len(input_videos) == 0:\n",
        "        print(\"No video is present in the input folder\")\n",
        "    else:    \n",
        "        for video_path in input_videos:\n",
        "            device = 'cuda' if torch.cuda.is_available() else 'cpu'\n",
        "            frames, fps, audioclip, input_name = read_video(f\"{video_path}\") \n",
        "            scenes = scene_detect(f\"{video_path}\")    \n",
        "\n",
        "            print('ball and bounce detection')\n",
        "            ball_tracker = BallTracker(model_path='models/tracknet_model_best.pt', device=device)\n",
        "            ball_detections = ball_tracker.detect_frames(frames)\n",
        "            ball_track = ball_tracker.interpolate_ball_positions(ball_detections)\n",
        "\n",
        "            bounce_detector = BounceDetector(path_model='models/bounce_model/')\n",
        "            x_ball = [x[0] for x in ball_track]\n",
        "            y_ball = [x[1] for x in ball_track]\n",
        "            bounces, preds = bounce_detector.predict(x_ball, y_ball, fps)\n",
        "\n",
        "            print('court detection')\n",
        "            court_detector = CourtDetectorNet(path_model='models/model_tennis_court_det.pt', device=device)\n",
        "            homography_matrices, kps_court = court_detector.infer_model(frames)\n",
        "\n",
        "            print('person detection')\n",
        "            person_detector = PersonDetector(device)\n",
        "            persons_top, persons_bottom = person_detector.track_players(frames, homography_matrices, filter_players=False)\n",
        "\n",
        "            # For Hawk eye 0:IN, 1:OUT\n",
        "            hawk_eye = np.full(shape=len(frames), fill_value=np.nan)\n",
        "            for bounce in bounces:\n",
        "                hawk_eye[bounce] = in_out_checker(kps_court[bounce], ball_track[bounce])\n",
        "\n",
        "            hawk_eye = pd.DataFrame(hawk_eye)\n",
        "            hawk_eye = hawk_eye.ffill(axis=0)\n",
        "            hawk_eye = hawk_eye.fillna(0)\n",
        "            hawk_eye = list(hawk_eye[0])\n",
        "\n",
        "            imgs_res = main(frames, scenes, bounces,\n",
        "                            ball_track, homography_matrices, kps_court,\n",
        "                            persons_top, persons_bottom, hawk_eye, draw_trace=True)\n",
        "\n",
        "            write(imgs_res, fps, f\"{output_video_folder_path}\", audioclip, input_name)\n",
        "            torch.cuda.empty_cache()\n"
      ]
    }
  ],
  "metadata": {
    "accelerator": "GPU",
    "colab": {
      "gpuType": "T4",
      "provenance": []
    },
    "kernelspec": {
      "display_name": "Python 3",
      "name": "python3"
    },
    "language_info": {
      "name": "python"
    }
  },
  "nbformat": 4,
  "nbformat_minor": 0
}
